{
 "cells": [
  {
   "cell_type": "code",
   "execution_count": 2,
   "metadata": {},
   "outputs": [],
   "source": [
    "import torch\n",
    "import os\n",
    "import torch.nn as nn\n",
    "import matplotlib.pyplot as plt\n",
    "import numpy as np\n",
    "import pandas as pd"
   ]
  },
  {
   "cell_type": "code",
   "execution_count": 3,
   "metadata": {},
   "outputs": [],
   "source": [
    "listdirs = [\"Healthy\", \"Motor_1_Steady_state_error\", \"Motor_1_Stuck\", \"Motor_2_Steady_state_error\", \"Motor_2_Stuck\", \"Motor_3_Steady_state_error\", \"Motor_3_Stuck\", \"Motor_4_Steady_state_error\", \"Motor_4_Stuck\"]\n",
    "path = \"training_csv/\"\n",
    "device = torch.device(\"mps\" if torch.backends.mps.is_available() else \"cpu\")"
   ]
  },
  {
   "cell_type": "code",
   "execution_count": 42,
   "metadata": {},
   "outputs": [],
   "source": [
    "class dataset(torch.utils.data.Dataset):\n",
    "    def __init__(self, training_ratio:float, training:bool, path, directories_list, backend):\n",
    "        super().__init__()\n",
    "        self.path = path\n",
    "        self.backend = backend\n",
    "        self.training_ratio = training_ratio\n",
    "        self.directories_list = directories_list\n",
    "        self.simulations = []\n",
    "        self.classes = []\n",
    "\n",
    "        for i, folder in enumerate(self.directories_list):\n",
    "            folderpath = os.path.join(path, folder)\n",
    "            files = os.listdir(folderpath)\n",
    "            number_files = len(files)\n",
    "            for n, file in enumerate(files):\n",
    "                if n < self.training_ratio * number_files and training:\n",
    "                    open_file = pd.read_csv(os.path.join(folderpath, file))\n",
    "                    tensor = torch.tensor(open_file.values, dtype=torch.float32)\n",
    "                    tensor[:,3:] -= tensor[:,:3]\n",
    "                    standardized_tensor = (tensor - tensor.mean(dim=0, keepdim=True))/tensor.std(dim=0, keepdim=True)\n",
    "                    self.simulations.append(standardized_tensor)\n",
    "                    self.classes.append(torch.nn.functional.one_hot(torch.tensor([i]), num_classes=9)[0].type(torch.float16))\n",
    "                elif n >= self.training_ratio * number_files and not training:\n",
    "                    open_file = pd.read_csv(os.path.join(folderpath, file))\n",
    "                    tensor = torch.tensor(open_file.values, dtype=torch.float32)\n",
    "                    tensor[:,3:] -= tensor[:,:3]\n",
    "                    standardized_tensor = (tensor - tensor.mean(dim=0, keepdim=True))/tensor.std(dim=0, keepdim=True)\n",
    "                    self.simulations.append(standardized_tensor)\n",
    "                    self.classes.append(torch.nn.functional.one_hot(torch.tensor([i]), num_classes=9)[0].type(torch.float16))\n",
    "        \n",
    "        self.simulations = torch.stack(self.simulations)\n",
    "        self.classes = torch.stack(self.classes)\n",
    "\n",
    "    def __len__(self):\n",
    "        return len(self.simulations)\n",
    "    \n",
    "    def __getitem__(self, index):\n",
    "        return (self.simulations[index], self.classes[index])\n",
    "    \n",
    "training_set = dataset(training_ratio=0.9, training=True, path=path, directories_list=listdirs, backend=device)\n",
    "trainingloader = torch.utils.data.DataLoader(training_set, shuffle=True, batch_size=32)\n",
    "\n",
    "testing_set = dataset(training_ratio=0.9, training=False, path=path, directories_list=listdirs, backend=device)\n",
    "testingloader = torch.utils.data.DataLoader(testing_set, batch_size=128, shuffle=False)"
   ]
  },
  {
   "cell_type": "code",
   "execution_count": 12,
   "metadata": {},
   "outputs": [
    {
     "name": "stdout",
     "output_type": "stream",
     "text": [
      "torch.Size([3240, 9]) torch.Size([3240, 999, 6]) torch.Size([3240, 9]) torch.Size([3240, 999, 6])\n"
     ]
    }
   ],
   "source": [
    "print(training_set.classes.shape, training_set.simulations.shape, training_set.classes.shape, training_set.simulations.shape)"
   ]
  },
  {
   "cell_type": "code",
   "execution_count": 47,
   "metadata": {},
   "outputs": [],
   "source": [
    "class LSTM_model(nn.Module):\n",
    "    def __init__(self, hidden_size, backend):\n",
    "        super().__init__()\n",
    "        self.hidden_size = hidden_size\n",
    "        self.backend = backend\n",
    "\n",
    "        self.LSTM = nn.LSTM(input_size=6, hidden_size=self.hidden_size, dropout=0.1, device=self.backend, batch_first=True, num_layers=2)\n",
    "        self.Linear = nn.Linear(in_features=self.hidden_size, out_features=9, device=self.backend)\n",
    "\n",
    "    def forward(self, x):\n",
    "        x = self.LSTM(x)[0][:,-1]\n",
    "        x = self.Linear(x)\n",
    "        return x\n",
    "    \n",
    "Lstm = LSTM_model(100, device)"
   ]
  },
  {
   "cell_type": "code",
   "execution_count": 51,
   "metadata": {},
   "outputs": [],
   "source": [
    "loss_function = torch.nn.CrossEntropyLoss()\n",
    "optimizer = torch.optim.Adam(Lstm.parameters(), lr=1E-3)\n",
    "epochs = 250 - 14\n",
    "patience = 10\n",
    "scheduler = torch.optim.lr_scheduler.ReduceLROnPlateau(optimizer=optimizer, mode=\"min\", factor=0.5, patience=patience)\n"
   ]
  },
  {
   "cell_type": "code",
   "execution_count": null,
   "metadata": {},
   "outputs": [
    {
     "name": "stdout",
     "output_type": "stream",
     "text": [
      "Epoch : 1, training cost : 1.3453145027160645\n",
      "Epoch : 1, testing cost : 1.8513163328170776, accuracy : 33.88888888888889%\n",
      "Epoch : 2, training cost : 0.7805802226066589\n",
      "Epoch : 2, testing cost : 1.9214913845062256, accuracy : 30.277777777777775%\n",
      "Epoch : 3, training cost : 1.9239333868026733\n",
      "Epoch : 3, testing cost : 1.96316659450531, accuracy : 31.944444444444443%\n",
      "Epoch : 4, training cost : 1.4180281162261963\n",
      "Epoch : 4, testing cost : 2.018843173980713, accuracy : 25.27777777777778%\n",
      "Epoch : 5, training cost : 0.9065353870391846\n",
      "Epoch : 5, testing cost : 1.9244189262390137, accuracy : 28.888888888888886%\n",
      "Epoch : 6, training cost : 1.398040771484375\n",
      "Epoch : 6, testing cost : 2.2277565002441406, accuracy : 19.444444444444446%\n",
      "Epoch : 7, training cost : 1.0046190023422241\n",
      "Epoch : 7, testing cost : 2.305088520050049, accuracy : 26.944444444444443%\n",
      "Epoch : 8, training cost : 1.250449776649475\n",
      "Epoch : 8, testing cost : 1.9276750087738037, accuracy : 27.22222222222222%\n"
     ]
    }
   ],
   "source": [
    "for e in range(epochs):\n",
    "    for i, data in enumerate(trainingloader):\n",
    "        optimizer.zero_grad()\n",
    "        predictions = Lstm.forward(data[0].to(device))\n",
    "        true_results = data[1].to(device)\n",
    "\n",
    "        cost = loss_function(predictions, true_results)\n",
    "\n",
    "        cost.backward()\n",
    "\n",
    "        optimizer.step()\n",
    "\n",
    "    print(f\"Epoch : {e+1}, training cost : {cost}\")\n",
    "\n",
    "    Lstm.eval()\n",
    "    with torch.no_grad():\n",
    "        accurate = 0\n",
    "        test_predictions = Lstm.forward(testing_set.simulations.to(device))\n",
    "        testing_set.classes = testing_set.classes.to(device)\n",
    "        for n, prediction in enumerate(test_predictions):\n",
    "            if torch.argmax(prediction) == torch.argmax(testing_set.classes[n]):\n",
    "                accurate += 1\n",
    "        cost = loss_function(test_predictions, testing_set.classes)\n",
    "        print(f\"Epoch : {e+1}, testing cost : {cost}, accuracy : {accurate/len(testing_set)*100}%\")\n",
    "        scheduler.step(cost)\n"
   ]
  },
  {
   "cell_type": "code",
   "execution_count": null,
   "metadata": {},
   "outputs": [
    {
     "name": "stdout",
     "output_type": "stream",
     "text": [
      "Accuracy : 11.11111111111111 ‰ F1 score : [0.5 0.5 0.5 0.5 0.5 0.5 0.5 0.5 0.5]\n"
     ]
    }
   ],
   "source": [
    "Lstm.zero_grad()\n",
    "VP = FP = FN = np.zeros(9)\n",
    "correct = 0\n",
    "for i, data in enumerate(testingloader):\n",
    "    predictions = Lstm.forward(data[0])\n",
    "\n",
    "    for n, prediction in enumerate(predictions):\n",
    "        response = torch.argmax(prediction)\n",
    "        true_result = torch.argmax(data[1][n])\n",
    "        if response == true_result:\n",
    "            VP[true_result] += 1\n",
    "            correct += 1\n",
    "        else:\n",
    "            FP[response] += 1\n",
    "            FN[true_result] += 1\n",
    "\n",
    "precision = VP/(VP+FP)\n",
    "recall = VP/(VP+FN)\n",
    "print(f\"Accuracy : {correct/360*100} ‰\", f\"F1 score : {2*precision*recall/(precision+recall)}\")"
   ]
  },
  {
   "cell_type": "code",
   "execution_count": null,
   "metadata": {},
   "outputs": [],
   "source": [
    "torch.save(Lstm, \"LSTM_model_30-03\")"
   ]
  },
  {
   "cell_type": "code",
   "execution_count": null,
   "metadata": {},
   "outputs": [
    {
     "data": {
      "text/plain": [
       "<matplotlib.image.AxesImage at 0x15c20aff0>"
      ]
     },
     "execution_count": 21,
     "metadata": {},
     "output_type": "execute_result"
    },
    {
     "data": {
      "image/png": "[encoded data removed]",
      "text/plain": [
       "<Figure size 480x480 with 1 Axes>"
      ]
     },
     "metadata": {},
     "output_type": "display_data"
    }
   ],
   "source": [
    "results = np.zeros((9, 9))\n",
    "\n",
    "for data in testingloader:\n",
    "    predictions = Lstm.forward(data[0])\n",
    "\n",
    "    for n, prediction in enumerate(predictions):\n",
    "        results[torch.argmax(prediction)][torch.argmax(data[1][n])] += 1\n",
    "\n",
    "plt.matshow(results)"
   ]
  }
 ],
 "metadata": {
  "kernelspec": {
   "display_name": "project",
   "language": "python",
   "name": "python3"
  },
  "language_info": {
   "codemirror_mode": {
    "name": "ipython",
    "version": 3
   },
   "file_extension": ".py",
   "mimetype": "text/x-python",
   "name": "python",
   "nbconvert_exporter": "python",
   "pygments_lexer": "ipython3",
   "version": "3.12.9"
  }
 },
 "nbformat": 4,
 "nbformat_minor": 2
}
