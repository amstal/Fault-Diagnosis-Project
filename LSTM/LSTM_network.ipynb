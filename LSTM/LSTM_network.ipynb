{
  "cells": [
    {
      "cell_type": "code",
      "execution_count": 18,
      "metadata": {
        "colab": {
          "base_uri": "https://localhost:8080/"
        },
        "id": "Eydz7c2ACDK3",
        "outputId": "c64379b2-ed64-4bef-c08a-b685da7d5b80"
      },
      "outputs": [
        {
          "ename": "ModuleNotFoundError",
          "evalue": "No module named 'google'",
          "output_type": "error",
          "traceback": [
            "\u001b[31m---------------------------------------------------------------------------\u001b[39m",
            "\u001b[31mModuleNotFoundError\u001b[39m                       Traceback (most recent call last)",
            "\u001b[36mCell\u001b[39m\u001b[36m \u001b[39m\u001b[32mIn[18]\u001b[39m\u001b[32m, line 1\u001b[39m\n\u001b[32m----> \u001b[39m\u001b[32m1\u001b[39m \u001b[38;5;28;01mfrom\u001b[39;00m\u001b[38;5;250m \u001b[39m\u001b[34;01mgoogle\u001b[39;00m\u001b[34;01m.\u001b[39;00m\u001b[34;01mcolab\u001b[39;00m\u001b[38;5;250m \u001b[39m\u001b[38;5;28;01mimport\u001b[39;00m drive\n\u001b[32m      2\u001b[39m drive.mount(\u001b[33m'\u001b[39m\u001b[33m/content/drive\u001b[39m\u001b[33m'\u001b[39m)\n",
            "\u001b[31mModuleNotFoundError\u001b[39m: No module named 'google'"
          ]
        }
      ],
      "source": [
        "from google.colab import drive\n",
        "drive.mount('/content/drive')"
      ]
    },
    {
      "cell_type": "code",
      "execution_count": 20,
      "metadata": {
        "id": "RVuaqsgqBiIr"
      },
      "outputs": [],
      "source": [
        "import torch\n",
        "import os\n",
        "import torch.nn as nn\n",
        "import matplotlib.pyplot as plt\n",
        "import numpy as np\n",
        "import pandas as pd"
      ]
    },
    {
      "cell_type": "code",
      "execution_count": 21,
      "metadata": {
        "colab": {
          "base_uri": "https://localhost:8080/"
        },
        "id": "RG8cqlQAQMn4",
        "outputId": "147722f3-7022-4095-8a3b-f8305ebbcabf"
      },
      "outputs": [
        {
          "name": "stdout",
          "output_type": "stream",
          "text": [
            "torch.IntTensor\n"
          ]
        }
      ],
      "source": [
        "print(torch.randperm(400, dtype=torch.int).type())"
      ]
    },
    {
      "cell_type": "code",
      "execution_count": 22,
      "metadata": {
        "colab": {
          "base_uri": "https://localhost:8080/"
        },
        "id": "OV4VhyT6BiIu",
        "outputId": "dcc4e424-0f5b-4f61-a502-a94452e31e70"
      },
      "outputs": [
        {
          "name": "stdout",
          "output_type": "stream",
          "text": [
            "mps\n"
          ]
        }
      ],
      "source": [
        "listdirs = [\"Healthy\", \"Motor_1_Steady_state_error\", \"Motor_1_Stuck\", \"Motor_2_Steady_state_error\", \"Motor_2_Stuck\", \"Motor_3_Steady_state_error\", \"Motor_3_Stuck\", \"Motor_4_Steady_state_error\", \"Motor_4_Stuck\"]\n",
        "path = \"training_csv/\"\n",
        "if torch.backends.mps.is_available():\n",
        "    device = torch.device(\"mps\")\n",
        "elif torch.cuda.is_available():\n",
        "    device = torch.device(\"cuda\")\n",
        "else:\n",
        "    device = torch.device(\"cpu\")\n",
        "\n",
        "print(device)"
      ]
    },
    {
      "cell_type": "code",
      "execution_count": 23,
      "metadata": {
        "id": "POB6aS1hBiIv"
      },
      "outputs": [],
      "source": [
        "class Dataset(torch.utils.data.Dataset):\n",
        "    def __init__(self, training_ratio:float, path, directories_list, backend, number_files:int = 400):\n",
        "        super().__init__()\n",
        "        self.path = path\n",
        "        self.backend = backend\n",
        "        self.training_ratio = training_ratio\n",
        "        self.directories_list = directories_list\n",
        "        self.simulations_train = torch.Tensor([])\n",
        "        self.classes_train = torch.Tensor([])\n",
        "        self.simulations_test = torch.Tensor([])\n",
        "        self.classes_test = torch.Tensor([])\n",
        "        self.number_files = number_files\n",
        "\n",
        "        num_training = int(training_ratio*number_files)\n",
        "\n",
        "        for i, folder in enumerate(self.directories_list):\n",
        "            folderpath = os.path.join(path, folder)\n",
        "            with os.scandir(folderpath) as it:\n",
        "                temp_simulations = []\n",
        "                temp_classes = []\n",
        "                for n, file in enumerate(it):\n",
        "                    open_file = pd.read_csv(file.path)\n",
        "                    tensor = torch.tensor(open_file.values, dtype=torch.float32)\n",
        "                    tensor[:,3:] -= tensor[:,:3]\n",
        "                    standardized_tensor = (tensor - tensor.mean(dim=0, keepdim=True))/tensor.std(dim=0, keepdim=True)\n",
        "                    temp_simulations.append(standardized_tensor)\n",
        "                    temp_classes.append(torch.nn.functional.one_hot(torch.tensor([i]), num_classes=9)[0].type(torch.float16))\n",
        "            rand_perm = torch.randperm(400,  dtype=torch.int)\n",
        "            temp_simulations = torch.stack(temp_simulations)[rand_perm]\n",
        "            temp_classes = torch.stack(temp_classes)[rand_perm]\n",
        "            self.simulations_train = torch.cat((self.simulations_train, temp_simulations[:num_training]))\n",
        "            self.classes_train = torch.cat((self.classes_train, temp_classes[:num_training]))\n",
        "            self.simulations_test = torch.cat((self.simulations_test, temp_simulations[num_training:]))\n",
        "            self.classes_test = torch.cat((self.classes_test, temp_classes[num_training:]))\n",
        "\n",
        "\n",
        "    def __len__(self):\n",
        "        return len(self.simulations_train)\n",
        "\n",
        "    def __getitem__(self, index):\n",
        "        return (self.simulations_train[index], self.classes_train[index])\n",
        "\n",
        "simul_dataset = Dataset(training_ratio=0.9, path=path, directories_list=listdirs, backend=device)\n",
        "trainingloader = torch.utils.data.DataLoader(simul_dataset, batch_size=32)"
      ]
    },
    {
      "cell_type": "code",
      "execution_count": 24,
      "metadata": {
        "colab": {
          "base_uri": "https://localhost:8080/"
        },
        "id": "U_6FFwmWBiIw",
        "outputId": "92bbd5f4-af63-4aa7-eadb-d135ee90b4a8"
      },
      "outputs": [
        {
          "name": "stdout",
          "output_type": "stream",
          "text": [
            "torch.Size([3240, 999, 6]) torch.Size([360, 999, 6]) torch.Size([3240, 9]) torch.Size([360, 9])\n"
          ]
        }
      ],
      "source": [
        "print(simul_dataset.simulations_train.shape, simul_dataset.simulations_test.shape, simul_dataset.classes_train.shape, simul_dataset.classes_test.shape)"
      ]
    },
    {
      "cell_type": "code",
      "execution_count": 29,
      "metadata": {
        "id": "gOdWo8NFBiIw"
      },
      "outputs": [],
      "source": [
        "class LSTM_model(nn.Module):\n",
        "    def __init__(self, hidden_size, backend):\n",
        "        super().__init__()\n",
        "        self.hidden_size = hidden_size\n",
        "        self.backend = backend\n",
        "\n",
        "        self.LSTM = nn.LSTM(input_size=6, hidden_size=self.hidden_size, dropout=0.1, device=self.backend, batch_first=True, num_layers=2)\n",
        "        self.Linear = nn.Linear(in_features=self.hidden_size, out_features=9, device=self.backend)\n",
        "\n",
        "    def forward(self, x):\n",
        "        x = self.LSTM(x)[0][:,-1]\n",
        "        x = self.Linear(x)\n",
        "        return x\n",
        "\n",
        "Lstm = LSTM_model(100, device)"
      ]
    },
    {
      "cell_type": "code",
      "execution_count": 30,
      "metadata": {
        "id": "ewMCddv6BiIw"
      },
      "outputs": [],
      "source": [
        "loss_function = torch.nn.CrossEntropyLoss()\n",
        "epochs = 250\n",
        "accuracy = 0\n",
        "F1 = np.zeros(9)\n",
        "training_data = [[], []]"
      ]
    },
    {
      "cell_type": "code",
      "execution_count": 36,
      "metadata": {
        "id": "inAudMg0MAsS"
      },
      "outputs": [],
      "source": [
        "optimizer = torch.optim.Adam(Lstm.parameters(), lr=1E-3)\n",
        "scheduler = torch.optim.lr_scheduler.StepLR(optimizer=optimizer, step_size=20, gamma=0.5)"
      ]
    },
    {
      "cell_type": "code",
      "execution_count": 37,
      "metadata": {
        "id": "MIqDxEd0BiIx"
      },
      "outputs": [
        {
          "name": "stdout",
          "output_type": "stream",
          "text": [
            "Epoch : 1, training cost : 1.5341142416000366, accuracy : 30.586\n",
            "Accuracy : 12.22%, F1 score : [0.5 0.5 0.5 0.5 0.5 0.5 0.5 0.5 0.5], lr : [0.001]\n",
            "Epoch : 2, training cost : 1.8576178550720215, accuracy : 18.92\n",
            "Accuracy : 13.33%, F1 score : [0.5 0.5 0.5 0.5 0.5 0.5 0.5 0.5 0.5], lr : [0.001]\n"
          ]
        },
        {
          "ename": "KeyboardInterrupt",
          "evalue": "",
          "output_type": "error",
          "traceback": [
            "\u001b[31m---------------------------------------------------------------------------\u001b[39m",
            "\u001b[31mKeyboardInterrupt\u001b[39m                         Traceback (most recent call last)",
            "\u001b[36mCell\u001b[39m\u001b[36m \u001b[39m\u001b[32mIn[37]\u001b[39m\u001b[32m, line 15\u001b[39m\n\u001b[32m     12\u001b[39m         \u001b[38;5;28;01mif\u001b[39;00m torch.argmax(predictions[n]) == torch.argmax(true_results[n]):\n\u001b[32m     13\u001b[39m             correct += \u001b[32m1\u001b[39m\n\u001b[32m---> \u001b[39m\u001b[32m15\u001b[39m     \u001b[43mcost\u001b[49m\u001b[43m.\u001b[49m\u001b[43mbackward\u001b[49m\u001b[43m(\u001b[49m\u001b[43m)\u001b[49m\n\u001b[32m     17\u001b[39m     optimizer.step()\n\u001b[32m     19\u001b[39m \u001b[38;5;28mprint\u001b[39m(\u001b[33mf\u001b[39m\u001b[33m\"\u001b[39m\u001b[33mEpoch : \u001b[39m\u001b[38;5;132;01m{\u001b[39;00me+\u001b[32m1\u001b[39m\u001b[38;5;132;01m}\u001b[39;00m\u001b[33m, training cost : \u001b[39m\u001b[38;5;132;01m{\u001b[39;00mcost\u001b[38;5;132;01m}\u001b[39;00m\u001b[33m, accuracy : \u001b[39m\u001b[38;5;132;01m{\u001b[39;00m\u001b[38;5;28mround\u001b[39m(correct/\u001b[32m3240\u001b[39m*\u001b[32m100\u001b[39m,\u001b[38;5;250m \u001b[39m\u001b[32m3\u001b[39m)\u001b[38;5;132;01m}\u001b[39;00m\u001b[33m\"\u001b[39m)\n",
            "\u001b[36mFile \u001b[39m\u001b[32m~/Library/CloudStorage/OneDrive-Personnel/Documents/Cours/Cycle ingé/1A/Projet IA/project/lib/python3.12/site-packages/torch/_tensor.py:626\u001b[39m, in \u001b[36mTensor.backward\u001b[39m\u001b[34m(self, gradient, retain_graph, create_graph, inputs)\u001b[39m\n\u001b[32m    616\u001b[39m \u001b[38;5;28;01mif\u001b[39;00m has_torch_function_unary(\u001b[38;5;28mself\u001b[39m):\n\u001b[32m    617\u001b[39m     \u001b[38;5;28;01mreturn\u001b[39;00m handle_torch_function(\n\u001b[32m    618\u001b[39m         Tensor.backward,\n\u001b[32m    619\u001b[39m         (\u001b[38;5;28mself\u001b[39m,),\n\u001b[32m   (...)\u001b[39m\u001b[32m    624\u001b[39m         inputs=inputs,\n\u001b[32m    625\u001b[39m     )\n\u001b[32m--> \u001b[39m\u001b[32m626\u001b[39m \u001b[43mtorch\u001b[49m\u001b[43m.\u001b[49m\u001b[43mautograd\u001b[49m\u001b[43m.\u001b[49m\u001b[43mbackward\u001b[49m\u001b[43m(\u001b[49m\n\u001b[32m    627\u001b[39m \u001b[43m    \u001b[49m\u001b[38;5;28;43mself\u001b[39;49m\u001b[43m,\u001b[49m\u001b[43m \u001b[49m\u001b[43mgradient\u001b[49m\u001b[43m,\u001b[49m\u001b[43m \u001b[49m\u001b[43mretain_graph\u001b[49m\u001b[43m,\u001b[49m\u001b[43m \u001b[49m\u001b[43mcreate_graph\u001b[49m\u001b[43m,\u001b[49m\u001b[43m \u001b[49m\u001b[43minputs\u001b[49m\u001b[43m=\u001b[49m\u001b[43minputs\u001b[49m\n\u001b[32m    628\u001b[39m \u001b[43m\u001b[49m\u001b[43m)\u001b[49m\n",
            "\u001b[36mFile \u001b[39m\u001b[32m~/Library/CloudStorage/OneDrive-Personnel/Documents/Cours/Cycle ingé/1A/Projet IA/project/lib/python3.12/site-packages/torch/autograd/__init__.py:347\u001b[39m, in \u001b[36mbackward\u001b[39m\u001b[34m(tensors, grad_tensors, retain_graph, create_graph, grad_variables, inputs)\u001b[39m\n\u001b[32m    342\u001b[39m     retain_graph = create_graph\n\u001b[32m    344\u001b[39m \u001b[38;5;66;03m# The reason we repeat the same comment below is that\u001b[39;00m\n\u001b[32m    345\u001b[39m \u001b[38;5;66;03m# some Python versions print out the first line of a multi-line function\u001b[39;00m\n\u001b[32m    346\u001b[39m \u001b[38;5;66;03m# calls in the traceback and some print out the last line\u001b[39;00m\n\u001b[32m--> \u001b[39m\u001b[32m347\u001b[39m \u001b[43m_engine_run_backward\u001b[49m\u001b[43m(\u001b[49m\n\u001b[32m    348\u001b[39m \u001b[43m    \u001b[49m\u001b[43mtensors\u001b[49m\u001b[43m,\u001b[49m\n\u001b[32m    349\u001b[39m \u001b[43m    \u001b[49m\u001b[43mgrad_tensors_\u001b[49m\u001b[43m,\u001b[49m\n\u001b[32m    350\u001b[39m \u001b[43m    \u001b[49m\u001b[43mretain_graph\u001b[49m\u001b[43m,\u001b[49m\n\u001b[32m    351\u001b[39m \u001b[43m    \u001b[49m\u001b[43mcreate_graph\u001b[49m\u001b[43m,\u001b[49m\n\u001b[32m    352\u001b[39m \u001b[43m    \u001b[49m\u001b[43minputs\u001b[49m\u001b[43m,\u001b[49m\n\u001b[32m    353\u001b[39m \u001b[43m    \u001b[49m\u001b[43mallow_unreachable\u001b[49m\u001b[43m=\u001b[49m\u001b[38;5;28;43;01mTrue\u001b[39;49;00m\u001b[43m,\u001b[49m\n\u001b[32m    354\u001b[39m \u001b[43m    \u001b[49m\u001b[43maccumulate_grad\u001b[49m\u001b[43m=\u001b[49m\u001b[38;5;28;43;01mTrue\u001b[39;49;00m\u001b[43m,\u001b[49m\n\u001b[32m    355\u001b[39m \u001b[43m\u001b[49m\u001b[43m)\u001b[49m\n",
            "\u001b[36mFile \u001b[39m\u001b[32m~/Library/CloudStorage/OneDrive-Personnel/Documents/Cours/Cycle ingé/1A/Projet IA/project/lib/python3.12/site-packages/torch/autograd/graph.py:823\u001b[39m, in \u001b[36m_engine_run_backward\u001b[39m\u001b[34m(t_outputs, *args, **kwargs)\u001b[39m\n\u001b[32m    821\u001b[39m     unregister_hooks = _register_logging_hooks_on_whole_graph(t_outputs)\n\u001b[32m    822\u001b[39m \u001b[38;5;28;01mtry\u001b[39;00m:\n\u001b[32m--> \u001b[39m\u001b[32m823\u001b[39m     \u001b[38;5;28;01mreturn\u001b[39;00m \u001b[43mVariable\u001b[49m\u001b[43m.\u001b[49m\u001b[43m_execution_engine\u001b[49m\u001b[43m.\u001b[49m\u001b[43mrun_backward\u001b[49m\u001b[43m(\u001b[49m\u001b[43m  \u001b[49m\u001b[38;5;66;43;03m# Calls into the C++ engine to run the backward pass\u001b[39;49;00m\n\u001b[32m    824\u001b[39m \u001b[43m        \u001b[49m\u001b[43mt_outputs\u001b[49m\u001b[43m,\u001b[49m\u001b[43m \u001b[49m\u001b[43m*\u001b[49m\u001b[43margs\u001b[49m\u001b[43m,\u001b[49m\u001b[43m \u001b[49m\u001b[43m*\u001b[49m\u001b[43m*\u001b[49m\u001b[43mkwargs\u001b[49m\n\u001b[32m    825\u001b[39m \u001b[43m    \u001b[49m\u001b[43m)\u001b[49m  \u001b[38;5;66;03m# Calls into the C++ engine to run the backward pass\u001b[39;00m\n\u001b[32m    826\u001b[39m \u001b[38;5;28;01mfinally\u001b[39;00m:\n\u001b[32m    827\u001b[39m     \u001b[38;5;28;01mif\u001b[39;00m attach_logging_hooks:\n",
            "\u001b[31mKeyboardInterrupt\u001b[39m: "
          ]
        }
      ],
      "source": [
        "for e in range(epochs):\n",
        "    Lstm.train()\n",
        "    correct = 0\n",
        "    for i, data in enumerate(trainingloader):\n",
        "        optimizer.zero_grad()\n",
        "        predictions = Lstm.forward(data[0].to(device))\n",
        "        true_results = data[1].to(device)\n",
        "\n",
        "#        print(predictions.shape, true_results.shape)\n",
        "        cost = loss_function(predictions, true_results)\n",
        "        for n in range(len(predictions)):\n",
        "            if torch.argmax(predictions[n]) == torch.argmax(true_results[n]):\n",
        "                correct += 1\n",
        "\n",
        "        cost.backward()\n",
        "\n",
        "        optimizer.step()\n",
        "\n",
        "    print(f\"Epoch : {e+1}, training cost : {cost}, accuracy : {round(correct/3240*100, 3)}\")\n",
        "\n",
        "    Lstm.eval()\n",
        "    with torch.no_grad():\n",
        "        correct = 0\n",
        "        VP = FN = FP = np.zeros(9)\n",
        "\n",
        "        test_predictions = torch.argmax(Lstm.forward(simul_dataset.simulations_test.to(device)), dim=-1)\n",
        "        answers = torch.argmax(simul_dataset.classes_test.to(device), dim=-1)\n",
        "        for n in range(len(answers)):\n",
        "            if test_predictions[n] == answers[n]:\n",
        "                correct += 1\n",
        "                VP[answers[n]] += 1\n",
        "            else:\n",
        "                FN[answers[n]] += 1\n",
        "                FP[test_predictions[n]] += 1\n",
        "        precision = np.divide(VP, VP+FP)\n",
        "        recall = np.divide(VP, VP+FN)\n",
        "        accuracy = correct/360\n",
        "        F1 = 2*np.divide(np.multiply(precision, recall), precision+recall)\n",
        "        training_data[0].append(accuracy)\n",
        "        training_data[1].append(F1)\n",
        "        scheduler.step()\n",
        "        print(f\"Accuracy : {round(accuracy*100, 2)}%, F1 score : {F1}, lr : {scheduler.get_last_lr()}\")\n"
      ]
    },
    {
      "cell_type": "code",
      "execution_count": null,
      "metadata": {
        "id": "gR6w-_wBBiIx",
        "outputId": "33528476-4ecf-4117-b61c-2422b969c194"
      },
      "outputs": [
        {
          "name": "stdout",
          "output_type": "stream",
          "text": [
            "Accuracy : 12.12962962962963% F1 score : [0.5 0.5 0.5 0.5 0.5 0.5 0.5 0.5 0.5], (array([ 360.,  361.,  422.,  386., 2706.,  361.,  750.,  360.,  381.]), array([ 360.,  361.,  422.,  386., 2706.,  361.,  750.,  360.,  381.]), array([ 360.,  361.,  422.,  386., 2706.,  361.,  750.,  360.,  381.]))\n"
          ]
        }
      ],
      "source": [
        "VP = FN = FP = np.zeros(9)\n",
        "correct = 0\n",
        "for i, images in enumerate(trainingloader):\n",
        "    predictions = torch.argmax(model_temp.forward(images[0].to(device)), dim=1)\n",
        "    true_results = torch.argmax(images[1].to(device), dim=1)\n",
        "\n",
        "    for n, prediction in enumerate(predictions):\n",
        "        if prediction == true_results[n]:\n",
        "            VP[true_results[n]] += 1\n",
        "            correct += 1\n",
        "        else:\n",
        "            FN[true_results[n]] += 1\n",
        "            FP[prediction] += 1\n",
        "\n",
        "precision = VP/(VP+FP)\n",
        "recall = VP/(VP+FN)\n",
        "accuracy = correct/len(training_set)\n",
        "F1 = (2*precision*recall)/(precision+recall)\n",
        "print(f\"Accuracy : {accuracy*100}%\", f\"F1 score : {F1}, {VP, FN, FP}\")"
      ]
    },
    {
      "cell_type": "code",
      "execution_count": null,
      "metadata": {
        "colab": {
          "base_uri": "https://localhost:8080/"
        },
        "id": "y4dbhDkuBiIx",
        "outputId": "a3302b63-2454-4f58-ced3-c77c5ab338b7"
      },
      "outputs": [
        {
          "name": "stdout",
          "output_type": "stream",
          "text": [
            "Accuracy : 33.88888888888889 ‰ F1 score : [0.5 0.5 0.5 0.5 0.5 0.5 0.5 0.5 0.5]\n"
          ]
        }
      ],
      "source": [
        "Lstm.zero_grad()\n",
        "VP = FP = FN = np.zeros(9)\n",
        "correct = 0\n",
        "for i, data in enumerate(testingloader):\n",
        "    predictions = Lstm.forward(data[0].to(device))\n",
        "\n",
        "    for n, prediction in enumerate(predictions):\n",
        "        response = torch.argmax(prediction)\n",
        "        true_result = torch.argmax(data[1][n])\n",
        "        if response == true_result:\n",
        "            VP[true_result] += 1\n",
        "            correct += 1\n",
        "        else:\n",
        "            FP[response] += 1\n",
        "            FN[true_result] += 1\n",
        "\n",
        "precision = VP/(VP+FP)\n",
        "recall = VP/(VP+FN)\n",
        "print(f\"Accuracy : {correct/360*100} ‰\", f\"F1 score : {2*precision*recall/(precision+recall)}\")"
      ]
    },
    {
      "cell_type": "code",
      "execution_count": null,
      "metadata": {
        "id": "ynrexFwnBiIy"
      },
      "outputs": [],
      "source": [
        "torch.save(Lstm, \"LSTM_model_30-03\")"
      ]
    },
    {
      "cell_type": "code",
      "execution_count": null,
      "metadata": {
        "colab": {
          "base_uri": "https://localhost:8080/",
          "height": 457
        },
        "id": "jYyJpKxrBiIy",
        "outputId": "76d8d47f-7efe-401a-c4fc-a2615cf6d069"
      },
      "outputs": [
        {
          "data": {
            "image/png": "[encoded data removed]",
            "text/plain": [
              "<Figure size 640x480 with 1 Axes>"
            ]
          },
          "metadata": {},
          "output_type": "display_data"
        }
      ],
      "source": [
        "results = np.zeros((9, 9))\n",
        "\n",
        "for data in testingloader:\n",
        "    predictions = Lstm.forward(data[0].to(device))\n",
        "\n",
        "    for n, prediction in enumerate(predictions):\n",
        "        results[torch.argmax(prediction)][torch.argmax(data[1][n])] += 1\n",
        "\n",
        "figure = plt.figure()\n",
        "axes = plt.axes()\n",
        "axes.matshow(results)\n",
        "plt.title(\"Matrice de confusion\")\n",
        "plt.show()\n",
        "\n",
        "figure.savefig(\"/content/drive/MyDrive/confusion_mat\")"
      ]
    },
    {
      "cell_type": "code",
      "execution_count": null,
      "metadata": {
        "colab": {
          "base_uri": "https://localhost:8080/",
          "height": 452
        },
        "id": "_Gr9uoNPOzgl",
        "outputId": "a0a6ebb2-887b-442b-fc79-ab3f1012591b"
      },
      "outputs": [
        {
          "data": {
            "image/png": "[encoded data removed]",
            "text/plain": [
              "<Figure size 900x480 with 1 Axes>"
            ]
          },
          "metadata": {},
          "output_type": "display_data"
        }
      ],
      "source": [
        "figure = plt.figure(figsize=(9, 4.8))\n",
        "ax = plt.axes()\n",
        "ax.plot(training_data[0], label=\"Accuracy\")\n",
        "ax.vlines((30, 60, 120), ymin=0.23, ymax=0.45, label=\"Lr division by 10\", color=\"orange\")\n",
        "ax.vlines(90, ymin=0.23, ymax=0.45, label=\"Lr division by 2\", color=\"green\")\n",
        "plt.title(\"Accuracy over epochs\")\n",
        "plt.legend()\n",
        "plt.show()\n",
        "figure.savefig(\"/content/drive/MyDrive/accuracy\")"
      ]
    }
  ],
  "metadata": {
    "accelerator": "GPU",
    "colab": {
      "gpuType": "T4",
      "provenance": []
    },
    "kernelspec": {
      "display_name": "project",
      "language": "python",
      "name": "python3"
    },
    "language_info": {
      "codemirror_mode": {
        "name": "ipython",
        "version": 3
      },
      "file_extension": ".py",
      "mimetype": "text/x-python",
      "name": "python",
      "nbconvert_exporter": "python",
      "pygments_lexer": "ipython3",
      "version": "3.12.9"
    }
  },
  "nbformat": 4,
  "nbformat_minor": 0
}
