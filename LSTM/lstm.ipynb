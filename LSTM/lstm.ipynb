{
 "cells": [
  {
   "cell_type": "code",
   "execution_count": 1,
   "id": "0e8f3000",
   "metadata": {},
   "outputs": [],
   "source": [
    "import os\n",
    "import torch\n",
    "import torch.nn as nn\n",
    "import pandas as pd\n",
    "import numpy as np\n",
    "\n",
    "from torch.utils.data import Dataset, DataLoader"
   ]
  },
  {
   "cell_type": "code",
   "execution_count": 2,
   "id": "3bcaf8ed",
   "metadata": {},
   "outputs": [
    {
     "name": "stdout",
     "output_type": "stream",
     "text": [
      "mps\n"
     ]
    }
   ],
   "source": [
    "list_dirs = [\n",
    "    \"Healthy\",\n",
    "    \"Motor_1_Steady_state_error\",\n",
    "    \"Motor_1_Stuck\",\n",
    "    \"Motor_2_Steady_state_error\",\n",
    "    \"Motor_2_Stuck\",\n",
    "    \"Motor_3_Steady_state_error\",\n",
    "    \"Motor_3_Stuck\",\n",
    "    \"Motor_4_Steady_state_error\",\n",
    "    \"Motor_4_Stuck\"\n",
    "    ]\n",
    "\n",
    "trainpath = \"set_csv/training_set/\"\n",
    "augmentedpath = \"set_csv/augmented/\"\n",
    "testpath = \"set_csv/testing_set/\"\n",
    "\n",
    "paths = [trainpath, augmentedpath, testpath]\n",
    "\n",
    "device = torch.device(\"mps\" if torch.backends.mps.is_available() else \"cpu\")\n",
    "print(device)"
   ]
  },
  {
   "cell_type": "code",
   "execution_count": 10,
   "id": "78f7c56a",
   "metadata": {},
   "outputs": [
    {
     "name": "stdout",
     "output_type": "stream",
     "text": [
      "torch.Size([9, 400, 1000, 6]) torch.Size([9, 120, 1000, 6]) torch.Size([9, 10, 1000, 6])\n"
     ]
    }
   ],
   "source": [
    "trainlist = []\n",
    "augmentedlist = []\n",
    "testlist = []\n",
    "\n",
    "tensors = []\n",
    "\n",
    "for path in paths:\n",
    "    liste = []\n",
    "    for dir in list_dirs:\n",
    "        categorylist = []\n",
    "        with os.scandir(path + dir) as it:\n",
    "            for file in it:\n",
    "                if path == augmentedpath:\n",
    "                    dataframe = np.array(pd.read_csv(file.path))[:,2:]\n",
    "                else:\n",
    "                   dataframe = np.array(pd.read_csv(file.path))[:,1:]\n",
    "                tensor = torch.tensor(dataframe)\n",
    "                categorylist.append(tensor)\n",
    "        categorytensor = torch.stack(categorylist)\n",
    "        liste.append(categorytensor)\n",
    "    tensors.append(torch.stack(liste))\n",
    "\n",
    "train_tensor, augmented_tensor, test_tensor = tensors\n",
    "\n",
    "\n",
    "print(train_tensor.shape, augmented_tensor.shape, test_tensor.shape)"
   ]
  },
  {
   "cell_type": "code",
   "execution_count": null,
   "id": "c5099458",
   "metadata": {},
   "outputs": [
    {
     "name": "stdout",
     "output_type": "stream",
     "text": [
      "torch.Size([3600, 1000, 3])\n",
      "torch.Size([90, 1000, 3])\n"
     ]
    }
   ],
   "source": [
    "class DataSet(Dataset):\n",
    "    def __init__(self, tens, device):\n",
    "        self.device = device\n",
    "        self.data = tens.to(torch.float32)\n",
    "        self.data = (self.data[:,:,:,:3] - self.data[:,:,:,3:]).to(self.device)\n",
    "            \n",
    "        self.label = []\n",
    "        for n in range(9):\n",
    "            labels = n * torch.ones(len(self.data[0])).to(torch.int16)\n",
    "            self.label.append(labels)\n",
    "        self.label = torch.flatten(torch.stack(self.label)).to(device)\n",
    "        self.data = torch.flatten(self.data, end_dim=1)\n",
    "        assert len(self.label) == len(self.data)\n",
    "        print(self.data.shape)\n",
    "    \n",
    "    def __len__(self):\n",
    "        return len(self.data)\n",
    "    \n",
    "    def __getitem__(self, index):\n",
    "        return self.data[index], self.label[index]\n",
    "    \n",
    "train_set = DataSet(train_tensor, device)\n",
    "augmented_set = DataSet(augmented_tensor, device)\n",
    "test_set = DataSet(test_tensor, device)"
   ]
  },
  {
   "cell_type": "code",
   "execution_count": null,
   "id": "68ff88af",
   "metadata": {},
   "outputs": [],
   "source": [
    "train_loader = DataLoader(train_set, batch_size=8, shuffle=True)\n",
    "augmented_loader = DataLoader(augmented_set, batch_size=20, shuffle=True)\n",
    "test_loader = DataLoader(test_set, batch_size=90)"
   ]
  },
  {
   "cell_type": "code",
   "execution_count": 6,
   "id": "03fc6534",
   "metadata": {},
   "outputs": [],
   "source": [
    "class lstm_model(nn.Module):\n",
    "    def __init__(self, hidden_size, device):\n",
    "        super().__init__()\n",
    "        self.hidden_size = hidden_size\n",
    "        self.device = device\n",
    "\n",
    "        self.Lstm = nn.LSTM(3, self.hidden_size, device=self.device, batch_first=True, dropout =.1, num_layers=2)\n",
    "        self.Linear = nn.Sequential(\n",
    "            nn.Linear(self.hidden_size, 50),\n",
    "            nn.BatchNorm1d(50),\n",
    "            nn.ReLU(),\n",
    "            nn.Linear(50, 9)\n",
    "            )\n",
    "        \n",
    "        \n",
    "    def forward(self, x):\n",
    "        x = self.Lstm(x)[0][:,-1].cpu()\n",
    "        x = self.Linear(x).to(device)\n",
    "        return x\n",
    "\n",
    "model = lstm_model(100, device)"
   ]
  },
  {
   "cell_type": "code",
   "execution_count": 7,
   "id": "f7512651",
   "metadata": {},
   "outputs": [
    {
     "name": "stdout",
     "output_type": "stream",
     "text": [
      "tensor([1, 6, 1, 8, 4, 8, 4, 6, 6, 1], device='mps:0')\n"
     ]
    }
   ],
   "source": [
    "tensors = train_set.data[500:510]\n",
    "labels = train_set.label[:10]\n",
    "\n",
    "guesses = model.forward(tensors)\n",
    "print(torch.argmax(guesses, dim=1))"
   ]
  },
  {
   "cell_type": "code",
   "execution_count": null,
   "id": "50bc73d5",
   "metadata": {},
   "outputs": [],
   "source": [
    "lr = 1E-4\n",
    "firstepochs = 100\n",
    "transferepochs = 50\n",
    "patience = 10\n",
    "\n",
    "cost_function = torch.nn.CrossEntropyLoss(reduction = \"sum\")\n",
    "optim = torch.optim.Adam(model.parameters(), lr)\n",
    "scheduler = torch.optim.lr_scheduler.StepLR(optim, step_size=30)"
   ]
  },
  {
   "cell_type": "code",
   "execution_count": 17,
   "id": "f3fb03c0",
   "metadata": {},
   "outputs": [
    {
     "name": "stdout",
     "output_type": "stream",
     "text": [
      "Training. Epoch : 1, cost : 8.355853080749512, lr : 0.0001\n",
      "Validation. Epoch : 0, accuracy = 28.88888931274414% (26)\n",
      "Training. Epoch : 2, cost : 9.553357124328613, lr : 0.0001\n",
      "Validation. Epoch : 1, accuracy = 28.88888931274414% (26)\n",
      "Training. Epoch : 3, cost : 9.724488258361816, lr : 0.0001\n",
      "Validation. Epoch : 2, accuracy = 31.11111068725586% (28)\n",
      "Training. Epoch : 4, cost : 7.507523536682129, lr : 0.0001\n",
      "Validation. Epoch : 3, accuracy = 28.88888931274414% (26)\n",
      "Training. Epoch : 5, cost : 11.736729621887207, lr : 0.0001\n",
      "Validation. Epoch : 4, accuracy = 26.66666603088379% (24)\n"
     ]
    },
    {
     "ename": "KeyboardInterrupt",
     "evalue": "",
     "output_type": "error",
     "traceback": [
      "\u001b[31m---------------------------------------------------------------------------\u001b[39m",
      "\u001b[31mKeyboardInterrupt\u001b[39m                         Traceback (most recent call last)",
      "\u001b[36mCell\u001b[39m\u001b[36m \u001b[39m\u001b[32mIn[17]\u001b[39m\u001b[32m, line 4\u001b[39m\n\u001b[32m      2\u001b[39m model.train()\n\u001b[32m      3\u001b[39m \u001b[38;5;28;01mfor\u001b[39;00m features, labels \u001b[38;5;129;01min\u001b[39;00m train_loader:\n\u001b[32m----> \u001b[39m\u001b[32m4\u001b[39m     guesses = \u001b[43mmodel\u001b[49m\u001b[43m.\u001b[49m\u001b[43mforward\u001b[49m\u001b[43m(\u001b[49m\u001b[43mfeatures\u001b[49m\u001b[43m)\u001b[49m\n\u001b[32m      6\u001b[39m     cost = cost_function(guesses, labels)\n\u001b[32m      7\u001b[39m     cost.backward()\n",
      "\u001b[36mCell\u001b[39m\u001b[36m \u001b[39m\u001b[32mIn[6]\u001b[39m\u001b[32m, line 17\u001b[39m, in \u001b[36mlstm_model.forward\u001b[39m\u001b[34m(self, x)\u001b[39m\n\u001b[32m     16\u001b[39m \u001b[38;5;28;01mdef\u001b[39;00m\u001b[38;5;250m \u001b[39m\u001b[34mforward\u001b[39m(\u001b[38;5;28mself\u001b[39m, x):\n\u001b[32m---> \u001b[39m\u001b[32m17\u001b[39m     x = \u001b[38;5;28;43mself\u001b[39;49m\u001b[43m.\u001b[49m\u001b[43mLstm\u001b[49m\u001b[43m(\u001b[49m\u001b[43mx\u001b[49m\u001b[43m)\u001b[49m\u001b[43m[\u001b[49m\u001b[32;43m0\u001b[39;49m\u001b[43m]\u001b[49m\u001b[43m[\u001b[49m\u001b[43m:\u001b[49m\u001b[43m,\u001b[49m\u001b[43m-\u001b[49m\u001b[32;43m1\u001b[39;49m\u001b[43m]\u001b[49m\u001b[43m.\u001b[49m\u001b[43mcpu\u001b[49m\u001b[43m(\u001b[49m\u001b[43m)\u001b[49m\n\u001b[32m     18\u001b[39m     x = \u001b[38;5;28mself\u001b[39m.Linear(x).to(device)\n\u001b[32m     19\u001b[39m     \u001b[38;5;28;01mreturn\u001b[39;00m x\n",
      "\u001b[31mKeyboardInterrupt\u001b[39m: "
     ]
    }
   ],
   "source": [
    "for n in range(firstepochs):\n",
    "    model.train()\n",
    "    for features, labels in train_loader:\n",
    "        guesses = model.forward(features)\n",
    "\n",
    "        cost = cost_function(guesses, labels)\n",
    "        cost.backward()\n",
    "        \n",
    "        optim.step()\n",
    "        optim.zero_grad()\n",
    "\n",
    "    scheduler.step()\n",
    "\n",
    "    print(f\"Training. Epoch : {n+1}, cost : {cost}, lr : {scheduler.get_last_lr()[0]}\")\n",
    "    \n",
    "    with torch.no_grad():\n",
    "        accuracy = 0\n",
    "        for features, labels in test_loader:\n",
    "            guesses = model.forward(features)\n",
    "            accuracy = torch.sum(torch.argmax(guesses, dim=1) == labels)\n",
    "\n",
    "    print(f\"Validation. Epoch : {n}, accuracy = {accuracy*100/90}% ({accuracy})\")"
   ]
  },
  {
   "cell_type": "code",
   "execution_count": null,
   "id": "94698f09",
   "metadata": {},
   "outputs": [
    {
     "name": "stdout",
     "output_type": "stream",
     "text": [
      "Training. Epoch : 6, cost : 12.693446159362793, lr : 0.001\n",
      "Validation. Epoch : 6, accuracy = 33.33333206176758% (30)\n",
      "Training. Epoch : 7, cost : 9.822790145874023, lr : 0.001\n",
      "Validation. Epoch : 7, accuracy = 42.22222137451172% (38)\n",
      "Training. Epoch : 8, cost : 12.577727317810059, lr : 0.001\n",
      "Validation. Epoch : 8, accuracy = 34.44444274902344% (31)\n",
      "Training. Epoch : 9, cost : 14.596870422363281, lr : 0.001\n",
      "Validation. Epoch : 9, accuracy = 35.55555725097656% (32)\n",
      "Training. Epoch : 10, cost : 10.840933799743652, lr : 0.001\n",
      "Validation. Epoch : 10, accuracy = 34.44444274902344% (31)\n",
      "Training. Epoch : 11, cost : 6.777524471282959, lr : 0.001\n",
      "Validation. Epoch : 11, accuracy = 28.88888931274414% (26)\n",
      "Training. Epoch : 12, cost : 9.85922622680664, lr : 0.001\n",
      "Validation. Epoch : 12, accuracy = 34.44444274902344% (31)\n",
      "Training. Epoch : 13, cost : 12.74919605255127, lr : 0.001\n",
      "Validation. Epoch : 13, accuracy = 31.11111068725586% (28)\n"
     ]
    }
   ],
   "source": [
    "for n in range(transferepochs):\n",
    "    model.train()\n",
    "    for features, labels in augmented_loader:\n",
    "        guesses = model.forward(features)\n",
    "\n",
    "        cost = cost_function(guesses, labels)\n",
    "        cost.backward()\n",
    "        \n",
    "        optim.step()\n",
    "        optim.zero_grad()\n",
    "\n",
    "    scheduler.step()\n",
    "\n",
    "    print(f\"Training. Epoch : {n+1}, cost : {cost}, lr : {scheduler.get_last_lr()[0]}\")\n",
    "    \n",
    "    with torch.no_grad():\n",
    "        accuracy = 0\n",
    "        for features, labels in test_loader:\n",
    "            guesses = model.forward(features)\n",
    "            accuracy = torch.sum(torch.argmax(guesses, dim=1) == labels)\n",
    "\n",
    "    print(f\"Validation. Epoch : {n}, accuracy = {accuracy*100/90}% ({accuracy})\")"
   ]
  }
 ],
 "metadata": {
  "kernelspec": {
   "display_name": "LSTM",
   "language": "python",
   "name": "python3"
  },
  "language_info": {
   "codemirror_mode": {
    "name": "ipython",
    "version": 3
   },
   "file_extension": ".py",
   "mimetype": "text/x-python",
   "name": "python",
   "nbconvert_exporter": "python",
   "pygments_lexer": "ipython3",
   "version": "3.13.3"
  }
 },
 "nbformat": 4,
 "nbformat_minor": 5
}
